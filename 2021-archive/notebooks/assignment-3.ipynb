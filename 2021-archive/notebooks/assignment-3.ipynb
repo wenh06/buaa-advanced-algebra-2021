{
 "cells": [
  {
   "cell_type": "markdown",
   "id": "c133abab",
   "metadata": {},
   "source": [
    "[![Open In Studio Lab](https://studiolab.sagemaker.aws/studiolab.svg)](https://studiolab.sagemaker.aws/import/github/wenh06/buaa-advanced-algebra-2021/blob/master/2021-archive/notebooks/assignment-3.ipynb)\n",
    "[![Open In Colab](https://colab.research.google.com/assets/colab-badge.svg)](https://colab.research.google.com/github/wenh06/buaa-advanced-algebra-2021/blob/master/2021-archive/notebooks/assignment-3.ipynb)"
   ]
  },
  {
   "cell_type": "code",
   "execution_count": null,
   "id": "dcc0bf47",
   "metadata": {},
   "outputs": [],
   "source": [
    "!pip install sympy"
   ]
  },
  {
   "cell_type": "code",
   "execution_count": null,
   "id": "ae8de64b",
   "metadata": {},
   "outputs": [],
   "source": [
    "import sympy as sp\n",
    "\n",
    "mat = sp.Matrix(\n",
    "    [[1,-1,2,4],[0,3,1,2],[3,0,7,14],[1,-1,2,0],[2,1,5,6]]\n",
    ").T\n",
    "echelon, pivots = mat.rref()"
   ]
  },
  {
   "cell_type": "code",
   "execution_count": null,
   "id": "e393457a",
   "metadata": {},
   "outputs": [],
   "source": [
    "echelon"
   ]
  },
  {
   "cell_type": "code",
   "execution_count": null,
   "id": "cca04b8a",
   "metadata": {},
   "outputs": [],
   "source": [
    "pivots"
   ]
  },
  {
   "cell_type": "code",
   "execution_count": null,
   "id": "7f37233b",
   "metadata": {},
   "outputs": [],
   "source": []
  }
 ],
 "metadata": {
  "kernelspec": {
   "display_name": "Python 3",
   "language": "python",
   "name": "python3"
  },
  "language_info": {
   "codemirror_mode": {
    "name": "ipython",
    "version": 3
   },
   "file_extension": ".py",
   "mimetype": "text/x-python",
   "name": "python",
   "nbconvert_exporter": "python",
   "pygments_lexer": "ipython3",
   "version": "3.6.9"
  }
 },
 "nbformat": 4,
 "nbformat_minor": 5
}
