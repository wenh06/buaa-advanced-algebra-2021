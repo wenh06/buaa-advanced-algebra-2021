{
 "cells": [
  {
   "cell_type": "code",
   "execution_count": null,
   "id": "e8e7e333",
   "metadata": {},
   "outputs": [],
   "source": [
    "import numpy as np\n",
    "import pandas as pd"
   ]
  },
  {
   "cell_type": "code",
   "execution_count": null,
   "id": "f3888b49",
   "metadata": {},
   "outputs": [],
   "source": [
    "df_me = pd.read_excel(\"./2022春高等代数作业成绩.xlsx\", sheet_name=None, header=None, engine=\"openpyxl\")"
   ]
  },
  {
   "cell_type": "code",
   "execution_count": null,
   "id": "e4a5731e",
   "metadata": {},
   "outputs": [],
   "source": [
    "for k, df in df_me.items():\n",
    "    df.columns = [\"学号\", \"成绩\"]\n",
    "    df_me[k] = df.sort_values(by=\"学号\")\n",
    "    df_me[k].set_index(\"学号\", inplace=True)"
   ]
  },
  {
   "cell_type": "code",
   "execution_count": null,
   "id": "e7c76c0d",
   "metadata": {},
   "outputs": [],
   "source": [
    "df_total = pd.read_excel(\"./2022春高等代数成绩表.xlsx\", sheet_name=\"作业\", engine=\"openpyxl\")"
   ]
  },
  {
   "cell_type": "code",
   "execution_count": null,
   "id": "742f44a3",
   "metadata": {},
   "outputs": [],
   "source": [
    "df_total = df_total[df_total.学号>=21231131]\n",
    "df_total.set_index(\"学号\", inplace=True)\n",
    "df_total"
   ]
  },
  {
   "cell_type": "code",
   "execution_count": null,
   "id": "7a842ef7",
   "metadata": {},
   "outputs": [],
   "source": []
  },
  {
   "cell_type": "code",
   "execution_count": null,
   "id": "54496a39",
   "metadata": {},
   "outputs": [],
   "source": [
    "df_marks = df_total[list(range(1,11))].applymap(lambda s: {\"√\":np.nan}.get(s,s))\n",
    "df_marks"
   ]
  },
  {
   "cell_type": "code",
   "execution_count": null,
   "id": "db0d4b81",
   "metadata": {},
   "outputs": [],
   "source": [
    "min_val, max_val = np.nanmin(df_marks.values), np.nanmax(df_marks.values)"
   ]
  },
  {
   "cell_type": "code",
   "execution_count": null,
   "id": "ff87baa9",
   "metadata": {},
   "outputs": [],
   "source": [
    "for k, df in df_me.items():\n",
    "    df[\"成绩\"] = df[\"成绩\"].apply(lambda s: min_val + (max_val-min_val)*(s-df[\"成绩\"].min())/(df[\"成绩\"].max()-df[\"成绩\"].min()))"
   ]
  },
  {
   "cell_type": "code",
   "execution_count": null,
   "id": "7cdf798a",
   "metadata": {},
   "outputs": [],
   "source": [
    "mapping = {1: \"前四周\",2: \"前四周\",3: \"前四周\",4: \"前四周\",5: \"第五周\",6:\"第六周\",7:\"第七周\",8:\"第八周\",10:\"第十周\"}"
   ]
  },
  {
   "cell_type": "code",
   "execution_count": null,
   "id": "886be6f6",
   "metadata": {},
   "outputs": [],
   "source": [
    "df_total_copy = df_total.copy(deep=True)"
   ]
  },
  {
   "cell_type": "code",
   "execution_count": null,
   "id": "d7a754d5",
   "metadata": {},
   "outputs": [],
   "source": [
    "for sid, row in df_total_copy.iterrows():\n",
    "    for col in [s for s in range(1,11) if s != 9]:\n",
    "        if row[col] == \"√\":\n",
    "            try:\n",
    "                df_total_copy.at[sid, col] = df_me[mapping[col]].loc[sid, \"成绩\"]\n",
    "            except:\n",
    "                print(sid, col)"
   ]
  },
  {
   "cell_type": "code",
   "execution_count": null,
   "id": "501fdb5b",
   "metadata": {},
   "outputs": [],
   "source": [
    "df_total = df_total_copy.copy(deep=True)"
   ]
  },
  {
   "cell_type": "code",
   "execution_count": null,
   "id": "4c54501e",
   "metadata": {},
   "outputs": [],
   "source": [
    "df_total = df_total.applymap(lambda s: {\"√\":np.nan}.get(s,s))"
   ]
  },
  {
   "cell_type": "code",
   "execution_count": null,
   "id": "183a3abc",
   "metadata": {},
   "outputs": [],
   "source": [
    "df_total[\"习题课成绩\"] = df_total[list(range(1,11))].mean(axis=1, skipna=True, numeric_only=True) - df_total.缺交次数*0.4\n",
    "df_total[\"习题课成绩\"] += df_total[\"11（自愿交）\"].apply(lambda s: 0 if np.isnan(s) else 0.5)\n",
    "df_total[\"习题课成绩\"] = df_total[\"习题课成绩\"].apply(lambda s: min(100, int(10*s)))"
   ]
  },
  {
   "cell_type": "code",
   "execution_count": null,
   "id": "9cf6fd93",
   "metadata": {},
   "outputs": [],
   "source": [
    "df_total"
   ]
  },
  {
   "cell_type": "code",
   "execution_count": null,
   "id": "ba5e7e6c",
   "metadata": {},
   "outputs": [],
   "source": [
    "df_total[[\"姓名\", \"习题课成绩\"]].to_csv(\"./2022春高等代数习题课成绩.csv\")"
   ]
  },
  {
   "cell_type": "code",
   "execution_count": null,
   "id": "20cc809a",
   "metadata": {},
   "outputs": [],
   "source": []
  }
 ],
 "metadata": {
  "kernelspec": {
   "display_name": "Python 3",
   "language": "python",
   "name": "python3"
  },
  "language_info": {
   "codemirror_mode": {
    "name": "ipython",
    "version": 3
   },
   "file_extension": ".py",
   "mimetype": "text/x-python",
   "name": "python",
   "nbconvert_exporter": "python",
   "pygments_lexer": "ipython3",
   "version": "3.6.9"
  }
 },
 "nbformat": 4,
 "nbformat_minor": 5
}
