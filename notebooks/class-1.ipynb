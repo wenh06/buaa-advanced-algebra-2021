{
 "cells": [
  {
   "cell_type": "markdown",
   "id": "b6eb1ec6",
   "metadata": {},
   "source": [
    "[![Open In Studio Lab](https://studiolab.sagemaker.aws/studiolab.svg)](https://studiolab.sagemaker.aws/import/github/wenh06/buaa-advanced-algebra-2021/blob/master/notebooks/class-1.ipynb)\n",
    "[![Open In Colab](https://colab.research.google.com/assets/colab-badge.svg)](https://colab.research.google.com/github/wenh06/buaa-advanced-algebra-2021/blob/master/notebooks/class-1.ipynb)"
   ]
  },
  {
   "cell_type": "code",
   "execution_count": null,
   "id": "e6cfe158",
   "metadata": {},
   "outputs": [],
   "source": [
    "# !pip install sympy"
   ]
  },
  {
   "cell_type": "code",
   "execution_count": null,
   "id": "aae5d8dc",
   "metadata": {},
   "outputs": [],
   "source": [
    "%load_ext autoreload\n",
    "%autoreload 2"
   ]
  },
  {
   "cell_type": "code",
   "execution_count": null,
   "id": "774f5715",
   "metadata": {},
   "outputs": [],
   "source": []
  },
  {
   "cell_type": "markdown",
   "id": "3e9a0ef7",
   "metadata": {},
   "source": [
    "## 习题1.2 第3 题"
   ]
  },
  {
   "cell_type": "code",
   "execution_count": null,
   "id": "4138d820",
   "metadata": {},
   "outputs": [],
   "source": [
    "import numpy as np\n",
    "import sympy as sp\n",
    "\n",
    "\n",
    "def LagrangePolynomial(\n",
    "    xs: np.ndarray, ys: np.ndarray, to_poly: bool = True\n",
    ") -> Union[sp.Poly, sp.Add]:\n",
    "    \"\"\"\n",
    "    computes the Lagrange polynomial of the given points\n",
    "\n",
    "    Parameters\n",
    "    ----------\n",
    "    xs, ys: np.ndarray,\n",
    "        the points\n",
    "    to_poly: bool, default True,\n",
    "        whether to convert the result to sympy.Poly\n",
    "\n",
    "    Returns\n",
    "    -------\n",
    "    poly: sympy.Poly or sympy.Add,\n",
    "        the Lagrange polynomial of the given points\n",
    "\n",
    "    \"\"\"\n",
    "    X = sp.symbols(\"x\")\n",
    "    assert len(xs) == len(ys), \"The length of `xs` and `ys` must be equal\"\n",
    "    poly = 0\n",
    "    for k in range(len(xs)):\n",
    "        t = 1\n",
    "        for j in range(len(xs)):\n",
    "            if j != k:\n",
    "                t = t * ((X - xs[j]) / (xs[k] - xs[j]))\n",
    "        poly += t * ys[k]\n",
    "    poly = sp.simplify(poly)\n",
    "    if to_poly:\n",
    "        poly = sp.Poly(poly, X)\n",
    "    return poly"
   ]
  },
  {
   "cell_type": "code",
   "execution_count": null,
   "id": "ac5a3d61",
   "metadata": {},
   "outputs": [],
   "source": [
    "xs = np.array([1, 2, 3, 4])\n",
    "ys = np.array([2, 7, 16, 29])"
   ]
  },
  {
   "cell_type": "code",
   "execution_count": null,
   "id": "dde4ceb3",
   "metadata": {},
   "outputs": [],
   "source": [
    "LagrangePolynomial(xs, ys)"
   ]
  },
  {
   "cell_type": "code",
   "execution_count": null,
   "id": "1196cff2",
   "metadata": {},
   "outputs": [],
   "source": []
  },
  {
   "cell_type": "code",
   "execution_count": null,
   "id": "b1304488",
   "metadata": {},
   "outputs": [],
   "source": []
  },
  {
   "cell_type": "markdown",
   "id": "e5403469",
   "metadata": {},
   "source": [
    "## 习题1.3 第2 题"
   ]
  },
  {
   "cell_type": "code",
   "execution_count": null,
   "id": "8e4f9daa",
   "metadata": {},
   "outputs": [],
   "source": [
    "import sympy as sp\n",
    "from sympy.solvers.solveset import linsolve\n",
    "\n",
    "x, y, z, u = sp.symbols(\"x, y, z, u\")"
   ]
  },
  {
   "cell_type": "code",
   "execution_count": null,
   "id": "160d3157",
   "metadata": {},
   "outputs": [],
   "source": [
    "linsolve([u * x + y + z - 1, x + u * y + z - u, x + y + u * z - u**2], (x, y, z))"
   ]
  },
  {
   "cell_type": "code",
   "execution_count": null,
   "id": "52226b54",
   "metadata": {},
   "outputs": [],
   "source": []
  }
 ],
 "metadata": {
  "kernelspec": {
   "display_name": "Python 3",
   "language": "python",
   "name": "python3"
  },
  "language_info": {
   "codemirror_mode": {
    "name": "ipython",
    "version": 3
   },
   "file_extension": ".py",
   "mimetype": "text/x-python",
   "name": "python",
   "nbconvert_exporter": "python",
   "pygments_lexer": "ipython3",
   "version": "3.6.9"
  }
 },
 "nbformat": 4,
 "nbformat_minor": 5
}
