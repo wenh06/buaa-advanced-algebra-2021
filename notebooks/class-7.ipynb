{
 "cells": [
  {
   "cell_type": "markdown",
   "id": "a49f99cc",
   "metadata": {},
   "source": [
    "[![Open In Studio Lab](https://studiolab.sagemaker.aws/studiolab.svg)](https://studiolab.sagemaker.aws/import/github/wenh06/buaa-advanced-algebra-2021/blob/master/notebooks/class-7.ipynb)\n",
    "[![Open In Colab](https://colab.research.google.com/assets/colab-badge.svg)](https://colab.research.google.com/github/wenh06/buaa-advanced-algebra-2021/blob/master/notebooks/class-7.ipynb)"
   ]
  },
  {
   "cell_type": "code",
   "execution_count": null,
   "id": "989085a3",
   "metadata": {},
   "outputs": [],
   "source": [
    "import sympy as sp\n",
    "from typing import Union\n",
    "\n",
    "%load_ext autoreload\n",
    "%autoreload 2"
   ]
  },
  {
   "cell_type": "code",
   "execution_count": null,
   "id": "92ad6900",
   "metadata": {},
   "outputs": [],
   "source": [
    "def polyn_determinant(f: Union[sp.Add, sp.Poly], x: sp.Symbol) -> Union[sp.Add, sp.Number]:\n",
    "    \"\"\"\n",
    "    computes the determinant of a univariate polynomial\n",
    "    \n",
    "    Parameters\n",
    "    ----------\n",
    "    f: sympy.Add or sympy.Poly,\n",
    "        the univariate polynomial\n",
    "    x: sympy.Symbol,\n",
    "        the variable\n",
    "        \n",
    "    Returns\n",
    "    -------\n",
    "    pol_det: sp.Add or sp.Number,\n",
    "        the determinant of the input univariate polynomial `f`\n",
    "    \n",
    "    \"\"\"\n",
    "    f = sp.Poly(f, x)\n",
    "    f_prime = sp.diff(f, x)\n",
    "    leading_coeff = f.coeffs()[0]\n",
    "    n = f.degree()\n",
    "    pol_det = sp.resultant(f, f_prime, x) * (-1)**(n*(n-1)//2) / leading_coeff\n",
    "    pol_det = sp.simplify(pol_det)\n",
    "    return pol_det"
   ]
  },
  {
   "cell_type": "code",
   "execution_count": null,
   "id": "5b00cfbe",
   "metadata": {},
   "outputs": [],
   "source": []
  },
  {
   "cell_type": "code",
   "execution_count": null,
   "id": "da898d73",
   "metadata": {},
   "outputs": [],
   "source": [
    "x, p, q, a, b, c, d, e = sp.symbols(\"x, p, q, a, b, c, d, e\")"
   ]
  },
  {
   "cell_type": "code",
   "execution_count": null,
   "id": "376d4d6f",
   "metadata": {},
   "outputs": [],
   "source": []
  },
  {
   "cell_type": "markdown",
   "id": "6b719aa3",
   "metadata": {},
   "source": [
    "### 一般的二次多项式 $a x^{2} + b x + c$ 的判别式"
   ]
  },
  {
   "cell_type": "code",
   "execution_count": null,
   "id": "f7243aaa",
   "metadata": {},
   "outputs": [],
   "source": [
    "polyn_determinant(a * x**2 + b * x + c, x)"
   ]
  },
  {
   "cell_type": "markdown",
   "id": "6068757c",
   "metadata": {},
   "source": [
    "### 三次多项式 $x^{3} + p x + q$ 的判别式"
   ]
  },
  {
   "cell_type": "code",
   "execution_count": null,
   "id": "e346fdac",
   "metadata": {},
   "outputs": [],
   "source": [
    "polyn_determinant(x**3 + p * x + q, x)"
   ]
  },
  {
   "cell_type": "markdown",
   "id": "58bfca93",
   "metadata": {},
   "source": [
    "### 一般的三次多项式 $a x^{3} + b x^{2} + c x + d$ 的判别式"
   ]
  },
  {
   "cell_type": "code",
   "execution_count": null,
   "id": "2ea40049",
   "metadata": {},
   "outputs": [],
   "source": [
    "polyn_determinant(a * x**3 + b * x**2 + c * x + d, x)"
   ]
  },
  {
   "cell_type": "markdown",
   "id": "fedfc833",
   "metadata": {},
   "source": [
    "### 一般的四次多项式 $a x^{4} + b x^{3} + c x^{2} + d x + e$ 的判别式"
   ]
  },
  {
   "cell_type": "code",
   "execution_count": null,
   "id": "ef603efb",
   "metadata": {},
   "outputs": [],
   "source": [
    "polyn_determinant(a * x**4 + b * x**3 + c * x**2 + d * x + e, x)"
   ]
  },
  {
   "cell_type": "code",
   "execution_count": null,
   "id": "7bf19ff6",
   "metadata": {},
   "outputs": [],
   "source": []
  },
  {
   "cell_type": "code",
   "execution_count": null,
   "id": "b3eee2f6",
   "metadata": {},
   "outputs": [],
   "source": []
  }
 ],
 "metadata": {
  "kernelspec": {
   "display_name": "Python 3",
   "language": "python",
   "name": "python3"
  },
  "language_info": {
   "codemirror_mode": {
    "name": "ipython",
    "version": 3
   },
   "file_extension": ".py",
   "mimetype": "text/x-python",
   "name": "python",
   "nbconvert_exporter": "python",
   "pygments_lexer": "ipython3",
   "version": "3.6.9"
  }
 },
 "nbformat": 4,
 "nbformat_minor": 5
}
