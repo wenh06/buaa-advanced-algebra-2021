{
 "cells": [
  {
   "cell_type": "markdown",
   "id": "7d7b8ec4",
   "metadata": {},
   "source": [
    "[![Open In Studio Lab](https://studiolab.sagemaker.aws/studiolab.svg)](https://studiolab.sagemaker.aws/import/github/wenh06/buaa-advanced-algebra-2021/blob/master/spring-class-6.ipynb)\n",
    "[![Open In Colab](https://colab.research.google.com/assets/colab-badge.svg)](https://colab.research.google.com/github/wenh06/buaa-advanced-algebra-2021/blob/master/spring-class-6.ipynb)"
   ]
  },
  {
   "cell_type": "code",
   "execution_count": null,
   "id": "741675e3",
   "metadata": {},
   "outputs": [],
   "source": [
    "!pip install numpy"
   ]
  },
  {
   "cell_type": "code",
   "execution_count": null,
   "id": "fa98079b",
   "metadata": {},
   "outputs": [],
   "source": [
    "import numpy as np\n",
    "\n",
    "A = np.array([[0.39,-1.89], [0.61,-1.80], [0.93,-1.68], [1.35,-1.50]])\n",
    "beta = np.array([1,1,1,1])\n",
    "\n",
    "sol = np.linalg.inv(A.T @ A) @ A.T @ beta"
   ]
  },
  {
   "cell_type": "code",
   "execution_count": null,
   "id": "a7eadf31",
   "metadata": {},
   "outputs": [],
   "source": [
    "sol"
   ]
  },
  {
   "cell_type": "code",
   "execution_count": null,
   "id": "1eb57270",
   "metadata": {},
   "outputs": [],
   "source": []
  }
 ],
 "metadata": {
  "kernelspec": {
   "display_name": "Python 3",
   "language": "python",
   "name": "python3"
  },
  "language_info": {
   "codemirror_mode": {
    "name": "ipython",
    "version": 3
   },
   "file_extension": ".py",
   "mimetype": "text/x-python",
   "name": "python",
   "nbconvert_exporter": "python",
   "pygments_lexer": "ipython3",
   "version": "3.6.9"
  }
 },
 "nbformat": 4,
 "nbformat_minor": 5
}
