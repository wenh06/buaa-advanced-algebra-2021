{
 "cells": [
  {
   "cell_type": "markdown",
   "id": "b6eb1ec6",
   "metadata": {},
   "source": [
    "[![Open In Studio Lab](https://studiolab.sagemaker.aws/studiolab.svg)](https://studiolab.sagemaker.aws/import/github/wenh06/buaa-advanced-algebra-2021/blob/master/notebooks/习题.ipynb)\n",
    "[![Open In Colab](https://colab.research.google.com/assets/colab-badge.svg)](https://colab.research.google.com/github/wenh06/buaa-advanced-algebra-2021/blob/master/notebooks/习题.ipynb)"
   ]
  },
  {
   "cell_type": "code",
   "execution_count": null,
   "id": "e6cfe158",
   "metadata": {},
   "outputs": [],
   "source": [
    "import numpy as np\n",
    "import sympy as sp\n",
    "\n",
    "%load_ext autoreload\n",
    "%autoreload 2"
   ]
  },
  {
   "cell_type": "code",
   "execution_count": null,
   "id": "d88e914f",
   "metadata": {},
   "outputs": [],
   "source": [
    "# !pip install numpy sympy"
   ]
  },
  {
   "cell_type": "code",
   "execution_count": null,
   "id": "1b4b1790",
   "metadata": {},
   "outputs": [],
   "source": [
    "# import functions\n",
    "from functions import (\n",
    "    vandermonde_mat,\n",
    "    vandermonde_det,\n",
    "    circulant_mat,\n",
    "    circulant_det,\n",
    "    sylvester_mat,\n",
    "    polyn_discriminant,\n",
    "    LagrangePolynomial,\n",
    ")"
   ]
  },
  {
   "cell_type": "code",
   "execution_count": null,
   "id": "2f968e27",
   "metadata": {},
   "outputs": [],
   "source": []
  },
  {
   "cell_type": "markdown",
   "id": "fd18d06d",
   "metadata": {},
   "source": [
    "# 第2章 线性空间"
   ]
  },
  {
   "cell_type": "markdown",
   "id": "56b3c6df",
   "metadata": {},
   "source": [
    "## 习题2.1"
   ]
  },
  {
   "cell_type": "markdown",
   "id": "3e9a0ef7",
   "metadata": {},
   "source": [
    "### 第 2 题"
   ]
  },
  {
   "cell_type": "code",
   "execution_count": null,
   "id": "4138d820",
   "metadata": {},
   "outputs": [],
   "source": [
    "# (1)\n",
    "A = np.array([2, 0, -1, 2, 0, -2, 1, -3, 3, -1, 2, 1, -2, 4, -7, 5]).reshape((4, 4))\n",
    "np.linalg.matrix_rank(A)"
   ]
  },
  {
   "cell_type": "code",
   "execution_count": null,
   "id": "1196cff2",
   "metadata": {},
   "outputs": [],
   "source": [
    "# (2)\n",
    "A = np.array([1, -1, 0, 0, 0, 1, -1, 0, 0, 0, 1, -1, -1, 0, 0, 1]).reshape((4, 4))\n",
    "np.linalg.matrix_rank(A)"
   ]
  },
  {
   "cell_type": "code",
   "execution_count": null,
   "id": "a83df7f7",
   "metadata": {},
   "outputs": [],
   "source": []
  },
  {
   "cell_type": "markdown",
   "id": "b4e1be2d",
   "metadata": {},
   "source": [
    "## 习题2.3"
   ]
  },
  {
   "cell_type": "markdown",
   "id": "199cc123",
   "metadata": {},
   "source": [
    "### 第1题"
   ]
  },
  {
   "cell_type": "code",
   "execution_count": null,
   "id": "5dfcfbcd",
   "metadata": {},
   "outputs": [],
   "source": [
    "mat = np.array([3, 1, 0, 6, 3, 2, 1, 3, 5]).reshape((3, 3)).T\n",
    "beta = np.array([2, -1, 2]).T\n",
    "np.linalg.solve(mat, beta)"
   ]
  },
  {
   "cell_type": "markdown",
   "id": "b410a5a8",
   "metadata": {},
   "source": [
    "### 第3题"
   ]
  },
  {
   "cell_type": "code",
   "execution_count": null,
   "id": "ede5c167",
   "metadata": {},
   "outputs": [],
   "source": [
    "alpha = np.array([1, 1, 1, 1, 0, 1, -1, -1, 0, 0, 1, -1, 0, 0, 0, 1]).reshape((4, 4)).T\n",
    "e = np.eye(4)\n",
    "coeff = np.linalg.inv(alpha) @ e\n",
    "for idx in range(4):\n",
    "    print(coeff[:, idx])"
   ]
  },
  {
   "cell_type": "markdown",
   "id": "4cfb68ea",
   "metadata": {},
   "source": [
    "### 第4题"
   ]
  },
  {
   "cell_type": "code",
   "execution_count": null,
   "id": "ffac55c7",
   "metadata": {},
   "outputs": [],
   "source": [
    "# (1)\n",
    "mat = sp.Matrix(3, 5, [1, 1, 1, 1, 1, 1, 2, 3, 4, 5, 1, 0, -1, -2, -3])\n",
    "b = sp.Matrix(np.zeros((3, 1)))\n",
    "\n",
    "x, params, free_var_index = mat.gauss_jordan_solve(b, freevar=True)\n",
    "x"
   ]
  },
  {
   "cell_type": "code",
   "execution_count": null,
   "id": "5559b832",
   "metadata": {},
   "outputs": [],
   "source": [
    "# (2)\n",
    "mat = sp.Matrix(\n",
    "    4, 5, [1, 1, 1, 1, -4, 1, -2, 3, -4, 2, -1, 3, -5, 7, -4, 1, 2, -1, 4, -6]\n",
    ")\n",
    "b = sp.Matrix(np.zeros((4, 1)))\n",
    "\n",
    "x, params, free_var_index = mat.gauss_jordan_solve(b, freevar=True)\n",
    "x"
   ]
  },
  {
   "cell_type": "markdown",
   "id": "321ec8ce",
   "metadata": {},
   "source": [
    "### 第5题"
   ]
  },
  {
   "cell_type": "code",
   "execution_count": null,
   "id": "9b1f315a",
   "metadata": {},
   "outputs": [],
   "source": [
    "X = sp.Matrix(3, 5, [1, 2, 3, 4, 5, 1, -1, 1, -1, 1, 1, 2, 4, 8, 16])\n",
    "b = sp.Matrix(np.zeros((3, 1)))\n",
    "\n",
    "A, params, free_var_index = X.gauss_jordan_solve(b, freevar=True)\n",
    "A"
   ]
  },
  {
   "cell_type": "code",
   "execution_count": null,
   "id": "1274d1cf",
   "metadata": {},
   "outputs": [],
   "source": []
  },
  {
   "cell_type": "markdown",
   "id": "ed321b54",
   "metadata": {},
   "source": [
    "## 习题2.4"
   ]
  },
  {
   "cell_type": "markdown",
   "id": "63c1da66",
   "metadata": {},
   "source": [
    "### 第1题"
   ]
  },
  {
   "cell_type": "code",
   "execution_count": null,
   "id": "5cbb6eda",
   "metadata": {},
   "outputs": [],
   "source": [
    "X = np.array([1, 1, 1, 1, 1, 1, 2, 3, 4, 5, 1, 0, -3, -2, -3]).reshape((3, 5))\n",
    "np.linalg.matrix_rank(X)"
   ]
  },
  {
   "cell_type": "code",
   "execution_count": null,
   "id": "b2970a35",
   "metadata": {},
   "outputs": [],
   "source": []
  },
  {
   "cell_type": "markdown",
   "id": "210b629c",
   "metadata": {},
   "source": [
    "## 习题2.7"
   ]
  },
  {
   "cell_type": "markdown",
   "id": "cdc6d915",
   "metadata": {},
   "source": [
    "### 第1题"
   ]
  },
  {
   "cell_type": "code",
   "execution_count": null,
   "id": "e8345500",
   "metadata": {},
   "outputs": [],
   "source": [
    "alpha_1 = [1, 1, 0, 0]\n",
    "alpha_2 = [0, 1, 1, 0]\n",
    "beta_1 = [1, 2, 3, 4]\n",
    "beta_2 = [0, 1, 2, 2]"
   ]
  },
  {
   "cell_type": "code",
   "execution_count": null,
   "id": "0e8d42ae",
   "metadata": {},
   "outputs": [],
   "source": [
    "A = sp.Matrix([alpha_1, alpha_2, beta_1, beta_2])\n",
    "# W1 + W2\n",
    "A.rowspace()"
   ]
  },
  {
   "cell_type": "code",
   "execution_count": null,
   "id": "d987f7f5",
   "metadata": {},
   "outputs": [],
   "source": [
    "W1_nullspace = [v.T for v in sp.Matrix([alpha_1, alpha_2]).nullspace()]\n",
    "W2_nullspace = [v.T for v in sp.Matrix([beta_1, beta_2]).nullspace()]\n",
    "# W1 intersect W2\n",
    "sp.Matrix(W1_nullspace + W2_nullspace).nullspace()"
   ]
  },
  {
   "cell_type": "markdown",
   "id": "005392d1",
   "metadata": {},
   "source": [
    "### 第2题"
   ]
  },
  {
   "cell_type": "code",
   "execution_count": null,
   "id": "9e8010a9",
   "metadata": {},
   "outputs": [],
   "source": [
    "A = sp.Matrix(2, 4, [1, 1, 1, 0, 0, 1, 2, 1])\n",
    "B = sp.Matrix(2, 4, [1, 2, 4, 2, 0, 1, 4, 3])\n",
    "\n",
    "W1 = [v.T for v in A.nullspace()]\n",
    "W2 = [v.T for v in B.nullspace()]"
   ]
  },
  {
   "cell_type": "code",
   "execution_count": null,
   "id": "23f96288",
   "metadata": {},
   "outputs": [],
   "source": [
    "# W1 + W2\n",
    "sp.Matrix(W1 + W2).rowspace()"
   ]
  },
  {
   "cell_type": "code",
   "execution_count": null,
   "id": "95b1cdb2",
   "metadata": {},
   "outputs": [],
   "source": [
    "# W1 intersect W2\n",
    "sp.Matrix(A.rowspace() + B.rowspace()).nullspace()"
   ]
  },
  {
   "cell_type": "code",
   "execution_count": null,
   "id": "e967ea78",
   "metadata": {},
   "outputs": [],
   "source": []
  },
  {
   "cell_type": "markdown",
   "id": "f4b3acb7",
   "metadata": {},
   "source": [
    "## 习题2.8"
   ]
  },
  {
   "cell_type": "markdown",
   "id": "e1d8ec59",
   "metadata": {},
   "source": [
    "### 第1题"
   ]
  },
  {
   "cell_type": "code",
   "execution_count": null,
   "id": "c8913c3e",
   "metadata": {},
   "outputs": [],
   "source": [
    "lam, x, y = sp.symbols(\"\\lambda, x, y\")\n",
    "f = lam * (x**2 + y**2 - x + 2 * y - 10) + (x**2 + y**2 + 3 * x - 4 * y - 1)\n",
    "f"
   ]
  },
  {
   "cell_type": "code",
   "execution_count": null,
   "id": "05e050ee",
   "metadata": {},
   "outputs": [],
   "source": [
    "C = (2, 0)\n",
    "lam_sol = sp.solve(f.subs(((x, C[0]), (y, C[1]))), lam)[0]\n",
    "lam_sol"
   ]
  },
  {
   "cell_type": "code",
   "execution_count": null,
   "id": "4839a8b0",
   "metadata": {},
   "outputs": [],
   "source": [
    "f.subs(((lam, lam_sol),))"
   ]
  },
  {
   "cell_type": "markdown",
   "id": "ae7f2ddb",
   "metadata": {},
   "source": [
    "### 第3题"
   ]
  },
  {
   "cell_type": "code",
   "execution_count": null,
   "id": "6316629c",
   "metadata": {},
   "outputs": [],
   "source": []
  },
  {
   "cell_type": "code",
   "execution_count": null,
   "id": "5ac78be4",
   "metadata": {},
   "outputs": [],
   "source": [
    "xs = np.array([1, 2, 3])\n",
    "ys = np.array([1, 2, 4])\n",
    "\n",
    "LagrangePolynomial(xs, ys, False)"
   ]
  },
  {
   "cell_type": "markdown",
   "id": "a335caef",
   "metadata": {},
   "source": [
    "### 第4题"
   ]
  },
  {
   "cell_type": "code",
   "execution_count": null,
   "id": "df91c161",
   "metadata": {},
   "outputs": [],
   "source": [
    "x = sp.symbols(\"x\")\n",
    "f1 = sp.Poly((x - 1) * (x - 2) * (x - 3))\n",
    "f2 = sp.Poly(x * (x - 2) * (x - 3))\n",
    "f3 = sp.Poly(x * (x - 1) * (x - 3))\n",
    "f4 = sp.Poly(x * (x - 1) * (x - 2))\n",
    "# (f1, f2, f3, f4) = (1, x, x^2, x^3) \\cdot coeff_mat\n",
    "coeff_mat = sp.Matrix([f.all_coeffs()[::-1] for f in [f1, f2, f3, f4]]).T"
   ]
  },
  {
   "cell_type": "code",
   "execution_count": null,
   "id": "b1e72841",
   "metadata": {},
   "outputs": [],
   "source": [
    "# (1, x, x^2, x^3) = (f1, f2, f3, f4) \\cdot coeff_mat^{-1}\n",
    "coeff_mat.inv()"
   ]
  },
  {
   "cell_type": "code",
   "execution_count": null,
   "id": "b01903e4",
   "metadata": {},
   "outputs": [],
   "source": []
  },
  {
   "cell_type": "markdown",
   "id": "c01fd777",
   "metadata": {},
   "source": [
    "# 第3章 行列式"
   ]
  },
  {
   "cell_type": "markdown",
   "id": "2977485f",
   "metadata": {},
   "source": [
    "## 习题3.1"
   ]
  },
  {
   "cell_type": "markdown",
   "id": "dbc24b34",
   "metadata": {},
   "source": [
    "### 第5题"
   ]
  },
  {
   "cell_type": "code",
   "execution_count": null,
   "id": "8ad3f08e",
   "metadata": {},
   "outputs": [],
   "source": [
    "x = sp.Symbol(\"x\")\n",
    "A = sp.Matrix(4, 4, [x, 1, 2, 3, x, x, 1, 2, 2, 3, x, 1, x, 2, 3, x])\n",
    "A.det()"
   ]
  },
  {
   "cell_type": "code",
   "execution_count": null,
   "id": "686358e5",
   "metadata": {},
   "outputs": [],
   "source": []
  },
  {
   "cell_type": "markdown",
   "id": "92c23824",
   "metadata": {},
   "source": [
    "## 习题3.2"
   ]
  },
  {
   "cell_type": "markdown",
   "id": "f40894d0",
   "metadata": {},
   "source": [
    "### 第1题"
   ]
  },
  {
   "cell_type": "code",
   "execution_count": null,
   "id": "4ee66977",
   "metadata": {},
   "outputs": [],
   "source": [
    "# (1)\n",
    "A = sp.Matrix(4, 4, [1, 1, 1, 1, 1, -1, 1, -1, 1, 2, 3, 4, 1, 3, 5, 9])\n",
    "A.det()"
   ]
  },
  {
   "cell_type": "code",
   "execution_count": null,
   "id": "a6fcc68c",
   "metadata": {},
   "outputs": [],
   "source": [
    "# (3)\n",
    "x, y = sp.symbols(\"x, y\")\n",
    "A = sp.Matrix(3, 3, [x, y, x + y, y, x + y, x, x + y, x, y])\n",
    "A.det()"
   ]
  },
  {
   "cell_type": "code",
   "execution_count": null,
   "id": "2860f194",
   "metadata": {},
   "outputs": [],
   "source": [
    "# (5)\n",
    "a, b, c, d = sp.symbols(\"a, b, c, d\")\n",
    "A = sp.Matrix(\n",
    "    4,\n",
    "    4,\n",
    "    [\n",
    "        a,\n",
    "        b,\n",
    "        c,\n",
    "        d,\n",
    "        a,\n",
    "        a + b,\n",
    "        a + b + c,\n",
    "        a + b + c + d,\n",
    "        a,\n",
    "        2 * a + b,\n",
    "        3 * a + 2 * b + c,\n",
    "        4 * a + 3 * b + 2 * c + d,\n",
    "        a,\n",
    "        3 * a + b,\n",
    "        6 * a + 3 * b + c,\n",
    "        10 * a + 6 * b + 3 * c + d,\n",
    "    ],\n",
    ")\n",
    "A.det()"
   ]
  },
  {
   "cell_type": "code",
   "execution_count": null,
   "id": "2c5c4ad7",
   "metadata": {},
   "outputs": [],
   "source": []
  },
  {
   "cell_type": "markdown",
   "id": "630e2168",
   "metadata": {},
   "source": [
    "## 习题3.4"
   ]
  },
  {
   "cell_type": "markdown",
   "id": "abd82c44",
   "metadata": {},
   "source": [
    "### 第1题"
   ]
  },
  {
   "cell_type": "code",
   "execution_count": null,
   "id": "153146a3",
   "metadata": {},
   "outputs": [],
   "source": [
    "mat = sp.Matrix(4, 4, [2, 1, -5, 1, 1, -3, 0, -6, 0, 2, -1, 2, 1, 4, -7, 6])\n",
    "b = sp.Matrix(4, 1, [4, 3, -5, 0])\n",
    "mat"
   ]
  },
  {
   "cell_type": "code",
   "execution_count": null,
   "id": "feef317a",
   "metadata": {},
   "outputs": [],
   "source": [
    "print(mat.det())\n",
    "for i in range(4):\n",
    "    new_mat = mat.copy()\n",
    "    new_mat[:, i] = b\n",
    "    print(new_mat.det())"
   ]
  },
  {
   "cell_type": "code",
   "execution_count": null,
   "id": "63de155c",
   "metadata": {},
   "outputs": [],
   "source": [
    "mat.inv() @ b"
   ]
  },
  {
   "cell_type": "code",
   "execution_count": null,
   "id": "b2faea0f",
   "metadata": {},
   "outputs": [],
   "source": []
  },
  {
   "cell_type": "markdown",
   "id": "f4702490",
   "metadata": {},
   "source": [
    "### 第4题"
   ]
  },
  {
   "cell_type": "code",
   "execution_count": null,
   "id": "d0c32f36",
   "metadata": {},
   "outputs": [],
   "source": [
    "lam = sp.symbols(\"lambda\")\n",
    "# (1)\n",
    "mat1 = sp.Matrix(2, 2, [1 + lam, 1 - lam, 1 - lam, 1 + lam])\n",
    "# (2)\n",
    "mat2 = sp.Matrix(3, 3, [lam, 1, 0, 1, lam, 1, 0, 1, lam])\n",
    "# (3)\n",
    "mat3 = sp.Matrix(3, 3, [-lam, 1, 1, 1, -lam, 1, 1, 1, -lam])"
   ]
  },
  {
   "cell_type": "code",
   "execution_count": null,
   "id": "7e22532c",
   "metadata": {},
   "outputs": [],
   "source": [
    "for mat in [mat1, mat2, mat3]:\n",
    "    print(sp.roots(mat.det(), multiple=True))"
   ]
  },
  {
   "cell_type": "code",
   "execution_count": null,
   "id": "ed72e029",
   "metadata": {},
   "outputs": [],
   "source": []
  },
  {
   "cell_type": "markdown",
   "id": "83ece4f4",
   "metadata": {},
   "source": [
    "# 第4章 矩阵的代数运算"
   ]
  },
  {
   "cell_type": "markdown",
   "id": "2603d0e5",
   "metadata": {},
   "source": [
    "## 习题4.1"
   ]
  },
  {
   "cell_type": "markdown",
   "id": "fe9cd614",
   "metadata": {},
   "source": [
    "### 第1题"
   ]
  },
  {
   "cell_type": "code",
   "execution_count": null,
   "id": "fa742d88",
   "metadata": {},
   "outputs": [],
   "source": [
    "A = sp.Matrix(2, 3, [1, 0, 1, 0, 2, 3])\n",
    "B = sp.Matrix(3, 3, [2, -1, 4, 1, 0, -2, 0, 3, 1])\n",
    "C = sp.Matrix(3, 2, [0, 2, -1, 0, 3, 1])"
   ]
  },
  {
   "cell_type": "code",
   "execution_count": null,
   "id": "72348182",
   "metadata": {},
   "outputs": [],
   "source": [
    "display(A @ B), display(B**2), display(A @ C), display(C @ A), display(B.T @ A.T);"
   ]
  },
  {
   "cell_type": "code",
   "execution_count": null,
   "id": "5dc2bf14",
   "metadata": {},
   "outputs": [],
   "source": []
  },
  {
   "cell_type": "markdown",
   "id": "e45bb803",
   "metadata": {},
   "source": [
    "## 习题4.2"
   ]
  },
  {
   "cell_type": "markdown",
   "id": "4543d8b2",
   "metadata": {},
   "source": [
    "### 第1题"
   ]
  },
  {
   "cell_type": "code",
   "execution_count": null,
   "id": "771305ad",
   "metadata": {},
   "outputs": [],
   "source": [
    "# 计算代价上看，最好还是用高斯消元法\n",
    "A = sp.Matrix(3, 3, [1, 2, 3, 2, 3, 4, 2, 4, 7])\n",
    "A.det()"
   ]
  },
  {
   "cell_type": "code",
   "execution_count": null,
   "id": "e7aecac9",
   "metadata": {},
   "outputs": [],
   "source": [
    "A.inv() @ sp.Matrix(3, 1, [1, 0, 5])"
   ]
  },
  {
   "cell_type": "code",
   "execution_count": null,
   "id": "31f13671",
   "metadata": {},
   "outputs": [],
   "source": [
    "A.inv() @ sp.Matrix(3, 1, [0, 2, 3])"
   ]
  },
  {
   "cell_type": "code",
   "execution_count": null,
   "id": "4ed9aef4",
   "metadata": {},
   "outputs": [],
   "source": [
    "A.inv() @ sp.Matrix(3, 2, [1, 1, 2, 5, 3, 7])"
   ]
  },
  {
   "cell_type": "code",
   "execution_count": null,
   "id": "608d0ebc",
   "metadata": {},
   "outputs": [],
   "source": []
  },
  {
   "cell_type": "markdown",
   "id": "3a754705",
   "metadata": {},
   "source": [
    "## 习题4.3"
   ]
  },
  {
   "cell_type": "markdown",
   "id": "beb68615",
   "metadata": {},
   "source": [
    "### 第1题"
   ]
  },
  {
   "cell_type": "code",
   "execution_count": null,
   "id": "6d538c11",
   "metadata": {},
   "outputs": [],
   "source": [
    "# (2)\n",
    "A = sp.Matrix(4, 4, [1, 5, 3, 0, 0, 4, 6, 2, 0, 0, 9, 1, 0, 0, 0, 1])\n",
    "A.inv()"
   ]
  },
  {
   "cell_type": "code",
   "execution_count": null,
   "id": "5e767b14",
   "metadata": {},
   "outputs": [],
   "source": []
  },
  {
   "cell_type": "markdown",
   "id": "974ff5a1",
   "metadata": {},
   "source": [
    "### 第4题"
   ]
  },
  {
   "cell_type": "code",
   "execution_count": null,
   "id": "b5ae093d",
   "metadata": {},
   "outputs": [],
   "source": [
    "# 手算用高斯消元法\n",
    "A = sp.Matrix(3, 3, [1, -2, 0, 2, 1, 3, 0, 2, 1])\n",
    "B = sp.Matrix(3, 3, [1, -1, 1, 2, -3, 1, 3, -4, 1])\n",
    "X = B * A.inv()\n",
    "X"
   ]
  },
  {
   "cell_type": "code",
   "execution_count": null,
   "id": "78f55eca",
   "metadata": {},
   "outputs": [],
   "source": []
  },
  {
   "cell_type": "markdown",
   "id": "792ed961",
   "metadata": {},
   "source": [
    "# 第5章 多项式"
   ]
  },
  {
   "cell_type": "markdown",
   "id": "30bd95d7",
   "metadata": {},
   "source": [
    "## 习题5.1"
   ]
  },
  {
   "cell_type": "markdown",
   "id": "0a38a12e",
   "metadata": {},
   "source": [
    "### 第5题"
   ]
  },
  {
   "cell_type": "code",
   "execution_count": null,
   "id": "b017b9dd",
   "metadata": {},
   "outputs": [],
   "source": [
    "# (1)\n",
    "x = sp.symbols(\"x\")\n",
    "f = 2 * x**4 - 5 * x + 8\n",
    "g = x + 3\n",
    "\n",
    "sp.div(f, g, x, domain=sp.RR)"
   ]
  },
  {
   "cell_type": "code",
   "execution_count": null,
   "id": "43a7f9c2",
   "metadata": {},
   "outputs": [],
   "source": [
    "# (2)\n",
    "x = sp.symbols(\"x\")\n",
    "f = x**3 - x + 2\n",
    "# g = x + complex(0, 1)\n",
    "g = x + sp.I\n",
    "\n",
    "sp.div(f, g, x, domain=sp.CC)"
   ]
  },
  {
   "cell_type": "code",
   "execution_count": null,
   "id": "15c6ba2d",
   "metadata": {},
   "outputs": [],
   "source": []
  },
  {
   "cell_type": "markdown",
   "id": "b1dede87",
   "metadata": {},
   "source": [
    "## 习题5.2"
   ]
  },
  {
   "cell_type": "markdown",
   "id": "dfe448db",
   "metadata": {},
   "source": [
    "### 第1题"
   ]
  },
  {
   "cell_type": "code",
   "execution_count": null,
   "id": "2b5ae626",
   "metadata": {},
   "outputs": [],
   "source": [
    "x = sp.symbols(\"x\")\n",
    "f = x**3 - 2 * x**2 + 2 * x - 1\n",
    "g = x**4 - x**3 + 2 * x**2 - x + 1\n",
    "\n",
    "sp.gcdex(f, g, x, domain=sp.QQ)"
   ]
  },
  {
   "cell_type": "code",
   "execution_count": null,
   "id": "7489bea4",
   "metadata": {},
   "outputs": [],
   "source": []
  },
  {
   "cell_type": "markdown",
   "id": "589d172c",
   "metadata": {},
   "source": [
    "### 第3题"
   ]
  },
  {
   "cell_type": "code",
   "execution_count": null,
   "id": "e98468e0",
   "metadata": {},
   "outputs": [],
   "source": [
    "# (1)\n",
    "x = sp.symbols(\"x\")\n",
    "f = x**3\n",
    "g = (x - 3) ** 2\n",
    "\n",
    "sp.gcdex(f, g, x, domain=sp.QQ)"
   ]
  },
  {
   "cell_type": "code",
   "execution_count": null,
   "id": "155f1cb6",
   "metadata": {},
   "outputs": [],
   "source": [
    "# (2)\n",
    "x = sp.symbols(\"x\")\n",
    "f = x**3 - 3\n",
    "g = x**2 - 2 * x + 3\n",
    "\n",
    "sp.gcdex(f, g, x, domain=sp.QQ)"
   ]
  },
  {
   "cell_type": "code",
   "execution_count": null,
   "id": "d99f09d7",
   "metadata": {},
   "outputs": [],
   "source": []
  },
  {
   "cell_type": "markdown",
   "id": "757960eb",
   "metadata": {},
   "source": [
    "## 习题5.3"
   ]
  },
  {
   "cell_type": "markdown",
   "id": "66571acd",
   "metadata": {},
   "source": [
    "### 第1题"
   ]
  },
  {
   "cell_type": "code",
   "execution_count": null,
   "id": "f0d5cf4b",
   "metadata": {},
   "outputs": [],
   "source": [
    "x = sp.symbols(\"x\")\n",
    "f = sum([x ** (3 * n) for n in range(7)])\n",
    "\n",
    "sp.factor(f, x, domain=sp.QQ)"
   ]
  },
  {
   "cell_type": "code",
   "execution_count": null,
   "id": "5e3b6f0b",
   "metadata": {},
   "outputs": [],
   "source": []
  },
  {
   "cell_type": "markdown",
   "id": "ab7d3a71",
   "metadata": {},
   "source": [
    "## 习题5.4"
   ]
  },
  {
   "cell_type": "markdown",
   "id": "603d2c98",
   "metadata": {},
   "source": [
    "### 第6题"
   ]
  },
  {
   "cell_type": "code",
   "execution_count": null,
   "id": "ad7251a0",
   "metadata": {},
   "outputs": [],
   "source": [
    "x, p, q = sp.symbols(\"x, p, q\")\n",
    "f = sp.Poly(x**3 + p * x + q, x)\n",
    "\n",
    "polyn_discriminant(f, x)"
   ]
  },
  {
   "cell_type": "code",
   "execution_count": null,
   "id": "6a3cd658",
   "metadata": {},
   "outputs": [],
   "source": [
    "f.discriminant()"
   ]
  },
  {
   "cell_type": "code",
   "execution_count": null,
   "id": "fad4c362",
   "metadata": {},
   "outputs": [],
   "source": []
  },
  {
   "cell_type": "markdown",
   "id": "11fe7844",
   "metadata": {},
   "source": [
    "### 第11题"
   ]
  },
  {
   "cell_type": "code",
   "execution_count": null,
   "id": "21984508",
   "metadata": {},
   "outputs": [],
   "source": [
    "# (1)\n",
    "x = sp.symbols(\"x\")\n",
    "f = x**4 + 4\n",
    "\n",
    "sp.factor(f, x, domain=sp.RR), sp.factor(f, x, extension=[sp.I])"
   ]
  },
  {
   "cell_type": "code",
   "execution_count": null,
   "id": "2a1e78c4",
   "metadata": {},
   "outputs": [],
   "source": [
    "# (3)\n",
    "x = sp.symbols(\"x\")\n",
    "f = x**12 - 1\n",
    "\n",
    "sp.factor(f, x, domain=sp.RR), sp.factor(f, x, extension=[sp.I])"
   ]
  },
  {
   "cell_type": "code",
   "execution_count": null,
   "id": "6f178bd8",
   "metadata": {},
   "outputs": [],
   "source": []
  }
 ],
 "metadata": {
  "kernelspec": {
   "display_name": "Python 3",
   "language": "python",
   "name": "python3"
  },
  "language_info": {
   "codemirror_mode": {
    "name": "ipython",
    "version": 3
   },
   "file_extension": ".py",
   "mimetype": "text/x-python",
   "name": "python",
   "nbconvert_exporter": "python",
   "pygments_lexer": "ipython3",
   "version": "3.6.9"
  }
 },
 "nbformat": 4,
 "nbformat_minor": 5
}
