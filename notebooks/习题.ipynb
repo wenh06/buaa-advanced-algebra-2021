{
 "cells": [
  {
   "cell_type": "markdown",
   "id": "b6eb1ec6",
   "metadata": {},
   "source": [
    "[![Open In Studio Lab](https://studiolab.sagemaker.aws/studiolab.svg)](https://studiolab.sagemaker.aws/import/github/wenh06/buaa-advanced-algebra-2021/blob/master/notebooks/习题.ipynb)\n",
    "[![Open In Colab](https://colab.research.google.com/assets/colab-badge.svg)](https://colab.research.google.com/github/wenh06/buaa-advanced-algebra-2021/blob/master/notebooks/习题.ipynb)"
   ]
  },
  {
   "cell_type": "code",
   "execution_count": null,
   "id": "e6cfe158",
   "metadata": {},
   "outputs": [],
   "source": [
    "import numpy as np\n",
    "import sympy as sp\n",
    "# ^^^ pyforest auto-imports - don't write above this line\n",
    "import sympy as sp"
   ]
  },
  {
   "cell_type": "code",
   "execution_count": null,
   "id": "d88e914f",
   "metadata": {},
   "outputs": [],
   "source": [
    "# !pip install numpy sympy"
   ]
  },
  {
   "cell_type": "code",
   "execution_count": null,
   "id": "2f968e27",
   "metadata": {},
   "outputs": [],
   "source": []
  },
  {
   "cell_type": "markdown",
   "id": "fd18d06d",
   "metadata": {},
   "source": [
    "# 第2章 线性空间"
   ]
  },
  {
   "cell_type": "markdown",
   "id": "56b3c6df",
   "metadata": {},
   "source": [
    "## 习题2.1"
   ]
  },
  {
   "cell_type": "markdown",
   "id": "3e9a0ef7",
   "metadata": {},
   "source": [
    "### 第 2 题"
   ]
  },
  {
   "cell_type": "code",
   "execution_count": null,
   "id": "4138d820",
   "metadata": {},
   "outputs": [],
   "source": [
    "# (1)\n",
    "A = np.array([2,0,-1,2,0,-2,1,-3,3,-1,2,1,-2,4,-7,5]).reshape((4,4))\n",
    "np.linalg.matrix_rank(A)"
   ]
  },
  {
   "cell_type": "code",
   "execution_count": null,
   "id": "1196cff2",
   "metadata": {},
   "outputs": [],
   "source": [
    "# (2)\n",
    "A = np.array([1,-1,0,0,0,1,-1,0,0,0,1,-1,-1,0,0,1]).reshape((4,4))\n",
    "np.linalg.matrix_rank(A)"
   ]
  },
  {
   "cell_type": "code",
   "execution_count": null,
   "id": "a83df7f7",
   "metadata": {},
   "outputs": [],
   "source": []
  },
  {
   "cell_type": "markdown",
   "id": "b4e1be2d",
   "metadata": {},
   "source": [
    "## 习题2.3"
   ]
  },
  {
   "cell_type": "markdown",
   "id": "199cc123",
   "metadata": {},
   "source": [
    "### 第1题"
   ]
  },
  {
   "cell_type": "code",
   "execution_count": null,
   "id": "5dfcfbcd",
   "metadata": {},
   "outputs": [],
   "source": [
    "mat = np.array([3,1,0,6,3,2,1,3,5]).reshape((3,3)).T\n",
    "beta = np.array([2,-1,2]).T\n",
    "np.linalg.solve(mat, beta)"
   ]
  },
  {
   "cell_type": "markdown",
   "id": "b410a5a8",
   "metadata": {},
   "source": [
    "### 第3题"
   ]
  },
  {
   "cell_type": "code",
   "execution_count": null,
   "id": "ede5c167",
   "metadata": {},
   "outputs": [],
   "source": [
    "alpha = np.array([1,1,1,1,0,1,-1,-1,0,0,1,-1,0,0,0,1]).reshape((4,4)).T\n",
    "e = np.eye(4)\n",
    "coeff = np.linalg.inv(alpha) @ e\n",
    "for idx in range(4):\n",
    "    print(coeff[:, idx])"
   ]
  },
  {
   "cell_type": "markdown",
   "id": "4cfb68ea",
   "metadata": {},
   "source": [
    "### 第4题"
   ]
  },
  {
   "cell_type": "code",
   "execution_count": null,
   "id": "ffac55c7",
   "metadata": {},
   "outputs": [],
   "source": [
    "# (1)\n",
    "mat = sp.Matrix(np.array([1,1,1,1,1,1,2,3,4,5,1,0,-1,-2,-3]).reshape(3,5))\n",
    "b = sp.Matrix(np.zeros((3,1)))\n",
    "\n",
    "x, params, free_var_index = mat.gauss_jordan_solve(b, freevar=True)\n",
    "x"
   ]
  },
  {
   "cell_type": "code",
   "execution_count": null,
   "id": "5559b832",
   "metadata": {},
   "outputs": [],
   "source": [
    "# (2)\n",
    "mat = sp.Matrix(np.array([1,1,1,1,-4,1,-2,3,-4,2,-1,3,-5,7,-4,1,2,-1,4,-6]).reshape(4,5))\n",
    "b = sp.Matrix(np.zeros((4,1)))\n",
    "\n",
    "x, params, free_var_index = mat.gauss_jordan_solve(b, freevar=True)\n",
    "x"
   ]
  },
  {
   "cell_type": "markdown",
   "id": "321ec8ce",
   "metadata": {},
   "source": [
    "### 第5题"
   ]
  },
  {
   "cell_type": "code",
   "execution_count": null,
   "id": "9b1f315a",
   "metadata": {},
   "outputs": [],
   "source": [
    "X = sp.Matrix(np.array([1,2,3,4,5,1,-1,1,-1,1,1,2,4,8,16]).reshape(3,5))\n",
    "b = sp.Matrix(np.zeros((3,1)))\n",
    "\n",
    "A, params, free_var_index = X.gauss_jordan_solve(b, freevar=True)\n",
    "A"
   ]
  },
  {
   "cell_type": "code",
   "execution_count": null,
   "id": "1274d1cf",
   "metadata": {},
   "outputs": [],
   "source": []
  },
  {
   "cell_type": "markdown",
   "id": "ed321b54",
   "metadata": {},
   "source": [
    "## 习题2.4"
   ]
  },
  {
   "cell_type": "markdown",
   "id": "63c1da66",
   "metadata": {},
   "source": [
    "### 第1题"
   ]
  },
  {
   "cell_type": "code",
   "execution_count": null,
   "id": "5cbb6eda",
   "metadata": {},
   "outputs": [],
   "source": [
    "X = np.array([1,1,1,1,1,1,2,3,4,5,1,0,-3,-2,-3]).reshape((3,5))\n",
    "np.linalg.matrix_rank(X)"
   ]
  },
  {
   "cell_type": "code",
   "execution_count": null,
   "id": "e967ea78",
   "metadata": {},
   "outputs": [],
   "source": []
  },
  {
   "cell_type": "markdown",
   "id": "f4b3acb7",
   "metadata": {},
   "source": [
    "## 习题2.8"
   ]
  },
  {
   "cell_type": "markdown",
   "id": "ae7f2ddb",
   "metadata": {
    "heading_collapsed": true
   },
   "source": [
    "### 第三题"
   ]
  },
  {
   "cell_type": "code",
   "execution_count": null,
   "id": "6316629c",
   "metadata": {
    "hidden": true
   },
   "outputs": [],
   "source": [
    "def LagrangePolynomial(xs, ys):\n",
    "    X = sp.symbols(\"x\")\n",
    "    assert len(xs) == len(ys)\n",
    "    y = 0\n",
    "    for k in range(len(xs)):\n",
    "        t = 1\n",
    "        for j in range(len(xs)):\n",
    "            if j != k:\n",
    "                t = t * ( (X - xs[j]) / (xs[k] - xs[j]) )\n",
    "        y += t * ys[k]\n",
    "    return sp.simplify(y)"
   ]
  },
  {
   "cell_type": "code",
   "execution_count": null,
   "id": "5ac78be4",
   "metadata": {
    "hidden": true
   },
   "outputs": [],
   "source": [
    "xs = np.array([1, 2, 3])\n",
    "ys = np.array([1, 2, 4])\n",
    "\n",
    "LagrangePolynomial(xs, ys)"
   ]
  },
  {
   "cell_type": "code",
   "execution_count": null,
   "id": "3bbb7a17",
   "metadata": {
    "hidden": true
   },
   "outputs": [],
   "source": []
  },
  {
   "cell_type": "markdown",
   "id": "c01fd777",
   "metadata": {},
   "source": [
    "# 第3章 行列式"
   ]
  },
  {
   "cell_type": "markdown",
   "id": "2977485f",
   "metadata": {},
   "source": [
    "## 习题3.1"
   ]
  },
  {
   "cell_type": "code",
   "execution_count": null,
   "id": "8ad3f08e",
   "metadata": {},
   "outputs": [],
   "source": [
    "x = sp.Symbol(\"x\")\n",
    "A = sp.Matrix([[x,1,2,3],[x,x,1,2],[2,3,x,1],[x,2,3,x]])\n",
    "A.det()"
   ]
  },
  {
   "cell_type": "code",
   "execution_count": null,
   "id": "92f75347",
   "metadata": {},
   "outputs": [],
   "source": []
  }
 ],
 "metadata": {
  "kernelspec": {
   "display_name": "Python 3",
   "language": "python",
   "name": "python3"
  },
  "language_info": {
   "codemirror_mode": {
    "name": "ipython",
    "version": 3
   },
   "file_extension": ".py",
   "mimetype": "text/x-python",
   "name": "python",
   "nbconvert_exporter": "python",
   "pygments_lexer": "ipython3",
   "version": "3.6.9"
  }
 },
 "nbformat": 4,
 "nbformat_minor": 5
}
