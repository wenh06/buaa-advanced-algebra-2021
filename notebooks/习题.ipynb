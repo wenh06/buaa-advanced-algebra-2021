{
 "cells": [
  {
   "cell_type": "markdown",
   "id": "b6eb1ec6",
   "metadata": {},
   "source": [
    "[![Open In Studio Lab](https://studiolab.sagemaker.aws/studiolab.svg)](https://studiolab.sagemaker.aws/import/github/wenh06/buaa-advanced-algebra-2021/blob/master/notebooks/习题.ipynb)\n",
    "[![Open In Colab](https://colab.research.google.com/assets/colab-badge.svg)](https://colab.research.google.com/github/wenh06/buaa-advanced-algebra-2021/blob/master/notebooks/习题.ipynb)"
   ]
  },
  {
   "cell_type": "code",
   "execution_count": null,
   "id": "e6cfe158",
   "metadata": {},
   "outputs": [],
   "source": [
    "import numpy as np\n",
    "# ^^^ pyforest auto-imports - don't write above this line\n"
   ]
  },
  {
   "cell_type": "code",
   "execution_count": null,
   "id": "d88e914f",
   "metadata": {},
   "outputs": [],
   "source": [
    "# !pip install numpy"
   ]
  },
  {
   "cell_type": "code",
   "execution_count": null,
   "id": "2f968e27",
   "metadata": {},
   "outputs": [],
   "source": []
  },
  {
   "cell_type": "markdown",
   "id": "56b3c6df",
   "metadata": {},
   "source": [
    "# 习题2.1 "
   ]
  },
  {
   "cell_type": "markdown",
   "id": "3e9a0ef7",
   "metadata": {},
   "source": [
    "## 第 2 题"
   ]
  },
  {
   "cell_type": "code",
   "execution_count": null,
   "id": "4138d820",
   "metadata": {},
   "outputs": [],
   "source": [
    "# (1)\n",
    "A = np.array([2,0,-1,2,0,-2,1,-3,3,-1,2,1,-2,4,-7,5]).reshape((4,4))\n",
    "np.linalg.matrix_rank(A)"
   ]
  },
  {
   "cell_type": "code",
   "execution_count": null,
   "id": "1196cff2",
   "metadata": {},
   "outputs": [],
   "source": [
    "# (2)\n",
    "A = np.array([1,-1,0,0,0,1,-1,0,0,0,1,-1,-1,0,0,1]).reshape((4,4))\n",
    "np.linalg.matrix_rank(A)"
   ]
  },
  {
   "cell_type": "code",
   "execution_count": null,
   "id": "b1304488",
   "metadata": {},
   "outputs": [],
   "source": []
  },
  {
   "cell_type": "code",
   "execution_count": null,
   "id": "52226b54",
   "metadata": {},
   "outputs": [],
   "source": []
  }
 ],
 "metadata": {
  "kernelspec": {
   "display_name": "Python 3",
   "language": "python",
   "name": "python3"
  },
  "language_info": {
   "codemirror_mode": {
    "name": "ipython",
    "version": 3
   },
   "file_extension": ".py",
   "mimetype": "text/x-python",
   "name": "python",
   "nbconvert_exporter": "python",
   "pygments_lexer": "ipython3",
   "version": "3.6.9"
  }
 },
 "nbformat": 4,
 "nbformat_minor": 5
}
