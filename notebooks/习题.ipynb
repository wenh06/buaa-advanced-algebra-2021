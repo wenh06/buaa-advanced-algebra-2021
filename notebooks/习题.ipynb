{
 "cells": [
  {
   "cell_type": "markdown",
   "id": "b6eb1ec6",
   "metadata": {},
   "source": [
    "[![Open In Studio Lab](https://studiolab.sagemaker.aws/studiolab.svg)](https://studiolab.sagemaker.aws/import/github/wenh06/buaa-advanced-algebra-2021/blob/master/notebooks/习题.ipynb)\n",
    "[![Open In Colab](https://colab.research.google.com/assets/colab-badge.svg)](https://colab.research.google.com/github/wenh06/buaa-advanced-algebra-2021/blob/master/notebooks/习题.ipynb)"
   ]
  },
  {
   "cell_type": "code",
   "execution_count": 1,
   "id": "e6cfe158",
   "metadata": {},
   "outputs": [],
   "source": [
    "import numpy as np\n",
    "# ^^^ pyforest auto-imports - don't write above this line\n",
    "import sympy as sp"
   ]
  },
  {
   "cell_type": "code",
   "execution_count": 2,
   "id": "d88e914f",
   "metadata": {},
   "outputs": [],
   "source": [
    "# !pip install numpy sympy"
   ]
  },
  {
   "cell_type": "code",
   "execution_count": null,
   "id": "2f968e27",
   "metadata": {},
   "outputs": [],
   "source": []
  },
  {
   "cell_type": "markdown",
   "id": "fd18d06d",
   "metadata": {},
   "source": [
    "# 第2章 线性空间"
   ]
  },
  {
   "cell_type": "markdown",
   "id": "56b3c6df",
   "metadata": {},
   "source": [
    "## 习题2.1"
   ]
  },
  {
   "cell_type": "markdown",
   "id": "3e9a0ef7",
   "metadata": {},
   "source": [
    "### 第 2 题"
   ]
  },
  {
   "cell_type": "code",
   "execution_count": 3,
   "id": "4138d820",
   "metadata": {},
   "outputs": [
    {
     "data": {
      "text/plain": [
       "3"
      ]
     },
     "execution_count": 3,
     "metadata": {},
     "output_type": "execute_result"
    }
   ],
   "source": [
    "# (1)\n",
    "A = np.array([2,0,-1,2,0,-2,1,-3,3,-1,2,1,-2,4,-7,5]).reshape((4,4))\n",
    "np.linalg.matrix_rank(A)"
   ]
  },
  {
   "cell_type": "code",
   "execution_count": 4,
   "id": "1196cff2",
   "metadata": {},
   "outputs": [
    {
     "data": {
      "text/plain": [
       "3"
      ]
     },
     "execution_count": 4,
     "metadata": {},
     "output_type": "execute_result"
    }
   ],
   "source": [
    "# (2)\n",
    "A = np.array([1,-1,0,0,0,1,-1,0,0,0,1,-1,-1,0,0,1]).reshape((4,4))\n",
    "np.linalg.matrix_rank(A)"
   ]
  },
  {
   "cell_type": "code",
   "execution_count": null,
   "id": "a83df7f7",
   "metadata": {},
   "outputs": [],
   "source": []
  },
  {
   "cell_type": "markdown",
   "id": "b4e1be2d",
   "metadata": {},
   "source": [
    "## 习题2.3"
   ]
  },
  {
   "cell_type": "markdown",
   "id": "199cc123",
   "metadata": {},
   "source": [
    "### 第1题"
   ]
  },
  {
   "cell_type": "code",
   "execution_count": 5,
   "id": "5dfcfbcd",
   "metadata": {},
   "outputs": [
    {
     "data": {
      "text/plain": [
       "array([-76.,  41., -16.])"
      ]
     },
     "execution_count": 5,
     "metadata": {},
     "output_type": "execute_result"
    }
   ],
   "source": [
    "mat = np.array([3,1,0,6,3,2,1,3,5]).reshape((3,3)).T\n",
    "beta = np.array([2,-1,2]).T\n",
    "np.linalg.solve(mat, beta)"
   ]
  },
  {
   "cell_type": "markdown",
   "id": "b410a5a8",
   "metadata": {},
   "source": [
    "### 第3题"
   ]
  },
  {
   "cell_type": "code",
   "execution_count": 6,
   "id": "ede5c167",
   "metadata": {},
   "outputs": [
    {
     "name": "stdout",
     "output_type": "stream",
     "text": [
      "[ 1. -1. -2. -4.]\n",
      "[0. 1. 1. 2.]\n",
      "[0. 0. 1. 1.]\n",
      "[0. 0. 0. 1.]\n"
     ]
    }
   ],
   "source": [
    "alpha = np.array([1,1,1,1,0,1,-1,-1,0,0,1,-1,0,0,0,1]).reshape((4,4)).T\n",
    "e = np.eye(4)\n",
    "coeff = np.linalg.inv(alpha) @ e\n",
    "for idx in range(4):\n",
    "    print(coeff[:, idx])"
   ]
  },
  {
   "cell_type": "markdown",
   "id": "4cfb68ea",
   "metadata": {},
   "source": [
    "### 第4题"
   ]
  },
  {
   "cell_type": "code",
   "execution_count": 7,
   "id": "ffac55c7",
   "metadata": {},
   "outputs": [
    {
     "data": {
      "text/latex": [
       "$\\displaystyle \\left[\\begin{matrix}\\tau_{0} + 2 \\tau_{1} + 3 \\tau_{2}\\\\- 2 \\tau_{0} - 3 \\tau_{1} - 4 \\tau_{2}\\\\\\tau_{0}\\\\\\tau_{1}\\\\\\tau_{2}\\end{matrix}\\right]$"
      ],
      "text/plain": [
       "Matrix([\n",
       "[   tau0 + 2*tau1 + 3*tau2],\n",
       "[-2*tau0 - 3*tau1 - 4*tau2],\n",
       "[                     tau0],\n",
       "[                     tau1],\n",
       "[                     tau2]])"
      ]
     },
     "execution_count": 7,
     "metadata": {},
     "output_type": "execute_result"
    }
   ],
   "source": [
    "# (1)\n",
    "mat = sp.Matrix(np.array([1,1,1,1,1,1,2,3,4,5,1,0,-1,-2,-3]).reshape(3,5))\n",
    "b = sp.Matrix(np.zeros((3,1)))\n",
    "\n",
    "x, params, free_var_index = mat.gauss_jordan_solve(b, freevar=True)\n",
    "x"
   ]
  },
  {
   "cell_type": "code",
   "execution_count": 8,
   "id": "5559b832",
   "metadata": {},
   "outputs": [
    {
     "data": {
      "text/latex": [
       "$\\displaystyle \\left[\\begin{matrix}- \\tau_{0} + 2 \\tau_{1}\\\\- \\tau_{0} + 2 \\tau_{1}\\\\\\tau_{0}\\\\\\tau_{0}\\\\\\tau_{1}\\end{matrix}\\right]$"
      ],
      "text/plain": [
       "Matrix([\n",
       "[-tau0 + 2*tau1],\n",
       "[-tau0 + 2*tau1],\n",
       "[          tau0],\n",
       "[          tau0],\n",
       "[          tau1]])"
      ]
     },
     "execution_count": 8,
     "metadata": {},
     "output_type": "execute_result"
    }
   ],
   "source": [
    "# (2)\n",
    "mat = sp.Matrix(np.array([1,1,1,1,-4,1,-2,3,-4,2,-1,3,-5,7,-4,1,2,-1,4,-6]).reshape(4,5))\n",
    "b = sp.Matrix(np.zeros((4,1)))\n",
    "\n",
    "x, params, free_var_index = mat.gauss_jordan_solve(b, freevar=True)\n",
    "x"
   ]
  },
  {
   "cell_type": "markdown",
   "id": "321ec8ce",
   "metadata": {},
   "source": [
    "### 第5题"
   ]
  },
  {
   "cell_type": "code",
   "execution_count": 9,
   "id": "9b1f315a",
   "metadata": {},
   "outputs": [
    {
     "data": {
      "text/latex": [
       "$\\displaystyle \\left[\\begin{matrix}6 \\tau_{0} + 16 \\tau_{1}\\\\\\tau_{0} + 6 \\tau_{1}\\\\- 4 \\tau_{0} - 11 \\tau_{1}\\\\\\tau_{0}\\\\\\tau_{1}\\end{matrix}\\right]$"
      ],
      "text/plain": [
       "Matrix([\n",
       "[ 6*tau0 + 16*tau1],\n",
       "[    tau0 + 6*tau1],\n",
       "[-4*tau0 - 11*tau1],\n",
       "[             tau0],\n",
       "[             tau1]])"
      ]
     },
     "execution_count": 9,
     "metadata": {},
     "output_type": "execute_result"
    }
   ],
   "source": [
    "X = sp.Matrix(np.array([1,2,3,4,5,1,-1,1,-1,1,1,2,4,8,16]).reshape(3,5))\n",
    "b = sp.Matrix(np.zeros((3,1)))\n",
    "\n",
    "A, params, free_var_index = X.gauss_jordan_solve(b, freevar=True)\n",
    "A"
   ]
  },
  {
   "cell_type": "code",
   "execution_count": null,
   "id": "1274d1cf",
   "metadata": {},
   "outputs": [],
   "source": []
  },
  {
   "cell_type": "markdown",
   "id": "ed321b54",
   "metadata": {},
   "source": [
    "## 习题2.4"
   ]
  },
  {
   "cell_type": "markdown",
   "id": "63c1da66",
   "metadata": {},
   "source": [
    "### 第1题"
   ]
  },
  {
   "cell_type": "code",
   "execution_count": 10,
   "id": "5cbb6eda",
   "metadata": {},
   "outputs": [
    {
     "data": {
      "text/plain": [
       "3"
      ]
     },
     "execution_count": 10,
     "metadata": {},
     "output_type": "execute_result"
    }
   ],
   "source": [
    "X = np.array([1,1,1,1,1,1,2,3,4,5,1,0,-3,-2,-3]).reshape((3,5))\n",
    "np.linalg.matrix_rank(X)"
   ]
  },
  {
   "cell_type": "code",
   "execution_count": null,
   "id": "37dc46bf",
   "metadata": {},
   "outputs": [],
   "source": []
  }
 ],
 "metadata": {
  "kernelspec": {
   "display_name": "Python 3",
   "language": "python",
   "name": "python3"
  },
  "language_info": {
   "codemirror_mode": {
    "name": "ipython",
    "version": 3
   },
   "file_extension": ".py",
   "mimetype": "text/x-python",
   "name": "python",
   "nbconvert_exporter": "python",
   "pygments_lexer": "ipython3",
   "version": "3.6.9"
  }
 },
 "nbformat": 4,
 "nbformat_minor": 5
}
